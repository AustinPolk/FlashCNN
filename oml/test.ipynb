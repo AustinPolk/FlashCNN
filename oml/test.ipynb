{
 "cells": [
  {
   "cell_type": "code",
   "execution_count": null,
   "id": "73619744",
   "metadata": {},
   "outputs": [],
   "source": [
    "import pandas as pd\n",
    "from oml.model import FlashPoint\n",
    "from oml.train import *\n",
    "\n",
    "variables = ['AWND','PRCP100','TAVG','TMAX','TMIN','UWSF2','VWSF2','UWSF5','VWSF5']\n",
    "\n",
    "data = pd.read_csv(r\"C:\\Users\\austi\\Downloads\\4032966.csv\")\n",
    "\n",
    "model = FlashPoint(len(variables), 20, 1)\n",
    "station_tensors, date_lookup = create_tensors(data, variables)\n",
    "single_station = station_tensors['USW00013958']\n",
    "\n",
    "X, Y = create_datasets(single_station, 20, 1)\n",
    "training, validation = split(X, Y, date_lookup, '2000-01-01', '2010-01-01', '2011-01-01', '2015-01-01')\n",
    "\n",
    "trained_model = train(model, training, validation, learning_rate=0.0001, batch_size=8, epochs=50)"
   ]
  }
 ],
 "metadata": {
  "language_info": {
   "name": "python"
  }
 },
 "nbformat": 4,
 "nbformat_minor": 5
}
