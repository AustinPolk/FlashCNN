{
 "cells": [
  {
   "cell_type": "code",
   "execution_count": 6,
   "id": "e534d660-b67d-42a6-825d-38e8849d812e",
   "metadata": {},
   "outputs": [
    {
     "name": "stdout",
     "output_type": "stream",
     "text": [
      "4 60 13\n",
      "16 60 1\n",
      "32 56 1\n",
      "32 28.0 1\n",
      "64 24.0 1\n",
      "64 12.0 1\n",
      "768.0\n"
     ]
    },
    {
     "data": {
      "text/plain": [
       "<All keys matched successfully>"
      ]
     },
     "execution_count": 6,
     "metadata": {},
     "output_type": "execute_result"
    }
   ],
   "source": [
    "from model import create_model\n",
    "from train import *\n",
    "\n",
    "import torch\n",
    "\n",
    "forward_features, backward_features = 0, 60\n",
    "model = create_model(13, forward_features + backward_features, 4, 5)\n",
    "\n",
    "model.load_state_dict(torch.load(r\"C:\\Users\\Austin\\Desktop\\Desktop Projects\\flash\\models\\model_f0_b60_e457.mdl\", weights_only=True))"
   ]
  },
  {
   "cell_type": "code",
   "execution_count": 23,
   "id": "708b3680-931b-4fa4-b25a-7565c4c04e6f",
   "metadata": {},
   "outputs": [
    {
     "name": "stdout",
     "output_type": "stream",
     "text": [
      "torch.Size([4, 60, 13])\n",
      "torch.Size([2, 4, 60, 13])\n"
     ]
    },
    {
     "data": {
      "text/plain": [
       "tensor([[12.4905,  5.9745, 43.0948, 21.7469, 32.4160,  4.7048, 23.2709,  9.5002,\n",
       "         -7.6691, -0.0489,  0.2731,  0.6651, 21.3568],\n",
       "        [11.8574,  4.5168, 43.7647, 21.8426, 32.8002,  4.4256, 22.1244,  6.2986,\n",
       "         -6.2927,  0.0944,  0.2199,  0.6598, 21.9228]],\n",
       "       grad_fn=<AddmmBackward0>)"
      ]
     },
     "execution_count": 23,
     "metadata": {},
     "output_type": "execute_result"
    }
   ],
   "source": [
    "historical_data = r\"data\\grand_island_nwt.csv\"\n",
    "normals_data = r\"data\\grand_island_normals.csv\"\n",
    "\n",
    "historical = pd.read_csv(historical_data)\n",
    "normals = pd.read_csv(normals_data)\n",
    "normals.insert(0, 'DAY', normals.index)\n",
    "\n",
    "#print('Creating tensors')\n",
    "t, dl = create_tensors(historical, normals)\n",
    "\n",
    "forecast_from = '2012-01-01'\n",
    "forecast_from_idx = dl[forecast_from]\n",
    "historical_data_start = forecast_from_idx - 60\n",
    "historical_data_end = forecast_from_idx - 1\n",
    "\n",
    "historical = get_many_historical_features(historical_data_start, historical_data_end, t.float(), dl, input=True)\n",
    "print(historical.size())\n",
    "\n",
    "historical2 = torch.stack((historical, historical), dim=0)\n",
    "print(historical2.size()) \n",
    "\n",
    "model(historical2)"
   ]
  },
  {
   "cell_type": "code",
   "execution_count": null,
   "id": "d13712da-b787-437e-b7d1-bd3351bad786",
   "metadata": {},
   "outputs": [],
   "source": []
  }
 ],
 "metadata": {
  "kernelspec": {
   "display_name": "Python 3 (ipykernel)",
   "language": "python",
   "name": "python3"
  },
  "language_info": {
   "codemirror_mode": {
    "name": "ipython",
    "version": 3
   },
   "file_extension": ".py",
   "mimetype": "text/x-python",
   "name": "python",
   "nbconvert_exporter": "python",
   "pygments_lexer": "ipython3",
   "version": "3.12.7"
  }
 },
 "nbformat": 4,
 "nbformat_minor": 5
}
