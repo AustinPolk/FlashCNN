{
 "cells": [
  {
   "cell_type": "code",
   "execution_count": null,
   "id": "5caf3484-548f-46ea-8993-c94c3840790a",
   "metadata": {},
   "outputs": [],
   "source": [
    "import torch\n",
    "from torch import nn, optim\n",
    "import numpy as np\n",
    "\n",
    "def create_model(num_features, sequence_len, k):\n",
    "    network = nn.Sequential()\n",
    "    \n",
    "    # first convolutional layer, followed by relu and maxpooling layers\n",
    "    network.add_module('Conv1', nn.Conv2d(in_channels=3, out_channels=24, kernel_size=(1, num_features)))\n",
    "    network.add_module('Conv2', nn.Conv2d(in_channels=24, out_channels=48, kernel_size=(k, 1)))\n",
    "    network.add_module('ReLU1', nn.ReLU())\n",
    "    network.add_module('MaxPool1', nn.MaxPool2d(kernel_size=(2,1), stride=2))\n",
    "    \n",
    "    # next layer, same thing.\n",
    "    network.add_module('Conv3', nn.Conv2d(in_channels=48, out_channels=96, kernel_size=(k, 1)))\n",
    "    network.add_module('ReLU2', nn.ReLU())\n",
    "    network.add_module('MaxPool2', nn.MaxPool2d(kernel_size=(2,1), stride=2))\n",
    "    \n",
    "    # then flatten everything into a single dimension and apply dropout\n",
    "    network.add_module('Flatten', nn.Flatten())\n",
    "    network.add_module('Dropout', nn.Dropout(0.2))\n",
    "    \n",
    "    # fully connected layers to produce a new set of features\n",
    "    flat_size = 96 * ((sequence_len - k + 1) // 2 - k + 1) // 2\n",
    "    network.add_module('FC1', nn.Linear(flat_size, 512))\n",
    "    network.add_module('ReLU3', nn.ReLU())\n",
    "    network.add_module('FC1', nn.Linear(512, 128))\n",
    "    network.add_module('ReLU3', nn.ReLU())\n",
    "    network.add_module('FC2', nn.Linear(128, num_features))\n",
    "\n",
    "    return network"
   ]
  }
 ],
 "metadata": {
  "kernelspec": {
   "display_name": "Python 3 (ipykernel)",
   "language": "python",
   "name": "python3"
  },
  "language_info": {
   "codemirror_mode": {
    "name": "ipython",
    "version": 3
   },
   "file_extension": ".py",
   "mimetype": "text/x-python",
   "name": "python",
   "nbconvert_exporter": "python",
   "pygments_lexer": "ipython3",
   "version": "3.12.7"
  }
 },
 "nbformat": 4,
 "nbformat_minor": 5
}
