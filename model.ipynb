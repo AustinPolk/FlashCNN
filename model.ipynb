{
 "cells": [
  {
   "cell_type": "code",
   "execution_count": 42,
   "id": "5caf3484-548f-46ea-8993-c94c3840790a",
   "metadata": {},
   "outputs": [],
   "source": [
    "import torch\n",
    "from torch import nn, optim\n",
    "import numpy as np\n",
    "\n",
    "def create_model(num_features, sequence_len, channels, k):\n",
    "    network = nn.Sequential()\n",
    "    \n",
    "    # first convolutional layer, followed by relu and maxpooling layers\n",
    "    network.add_module('Conv1', nn.Conv2d(in_channels=channels, out_channels=4*channels, kernel_size=(1, num_features)))\n",
    "    network.add_module('Conv2', nn.Conv2d(in_channels=4*channels, out_channels=8*channels, kernel_size=(k, 1)))\n",
    "    network.add_module('ReLU1', nn.ReLU())\n",
    "    network.add_module('MaxPool1', nn.MaxPool2d(kernel_size=(2,1), stride=2))\n",
    "    \n",
    "    # next layer, same thing.\n",
    "    network.add_module('Conv3', nn.Conv2d(in_channels=8*channels, out_channels=16*channels, kernel_size=(k, 1)))\n",
    "    network.add_module('ReLU2', nn.ReLU())\n",
    "    network.add_module('MaxPool2', nn.MaxPool2d(kernel_size=(2,1), stride=2))\n",
    "    \n",
    "    # then flatten everything into a single dimension and apply dropout\n",
    "    network.add_module('Flatten', nn.Flatten())\n",
    "    network.add_module('Dropout', nn.Dropout(0.2))\n",
    "    \n",
    "    # fully connected layers to produce a new set of features\n",
    "    flat_size = 16 * channels * ((sequence_len - k + 1) // 2 - k + 1) // 2\n",
    "    network.add_module('FC1', nn.Linear(flat_size, 512))\n",
    "    network.add_module('ReLU3', nn.ReLU())\n",
    "    network.add_module('FC2', nn.Linear(512, 128))\n",
    "    network.add_module('ReLU4', nn.ReLU())\n",
    "    network.add_module('FC3', nn.Linear(128, num_features))\n",
    "\n",
    "    return network"
   ]
  },
  {
   "cell_type": "code",
   "execution_count": 43,
   "id": "97379c3e-3f0e-45e9-8f1d-cd6aa3d9191f",
   "metadata": {},
   "outputs": [],
   "source": [
    "historical_data = r\"data\\grand_island_nwt.csv\"\n",
    "normals_data = r\"data\\grand_island_normals.csv\"\n",
    "\n",
    "import pandas as pd\n",
    "\n",
    "historical = pd.read_csv(historical_data)\n",
    "normals = pd.read_csv(normals_data)\n",
    "normals.insert(0, 'DAY', normals.index)\n"
   ]
  },
  {
   "cell_type": "code",
   "execution_count": 44,
   "id": "fd4a5e9b-add6-48f7-96f5-78f9da665197",
   "metadata": {},
   "outputs": [],
   "source": [
    "import torch\n",
    "\n",
    "def create_tensors(historical_data: pd.DataFrame, normal_data: pd.DataFrame):\n",
    "    date_lookup = {}\n",
    "    index = historical_data['DATE']\n",
    "    for i in range(len(index)):\n",
    "        date_lookup[index[i]] = i\n",
    "\n",
    "    merged = pd.merge(historical_data, normal_data, on='DAY', how='left')\n",
    "    mean_columns = [x for x in merged.columns if 'mean' in x]\n",
    "    normals_for_historical = merged[['DATE', 'DAY'] + mean_columns]\n",
    "    normals_for_historical.columns = historical_data.columns\n",
    "    differences = historical_data.drop(['DATE', 'DAY'], axis=1).subtract(normals_for_historical.drop(['DATE', 'DAY'], axis=1))\n",
    "    squared_differences = differences.pow(2)\n",
    "\n",
    "    historical = historical_data.drop(['DATE', 'DAY'], axis=1)\n",
    "    normal = normals_for_historical.drop(['DATE', 'DAY'], axis=1)\n",
    "\n",
    "    h_tensors = torch.from_numpy(historical.values)\n",
    "    n_tensors = torch.from_numpy(normal.values)\n",
    "    d_tensors = torch.from_numpy(differences.values)\n",
    "    s_tensors = torch.from_numpy(squared_differences.values)\n",
    "\n",
    "    return torch.stack((h_tensors, n_tensors, d_tensors, s_tensors), dim=0), date_lookup\n",
    "\n",
    "t, dl = create_tensors(historical, normals)\n"
   ]
  },
  {
   "cell_type": "code",
   "execution_count": 50,
   "id": "6f0f72d0",
   "metadata": {},
   "outputs": [],
   "source": [
    "def get_historical_features(frm, tensors, date_lookup, input=False):\n",
    "    if isinstance(frm, str):\n",
    "        from_idx = date_lookup[frm]\n",
    "    else:\n",
    "        from_idx = frm\n",
    "    if input:\n",
    "        return tensors[:, from_idx, :]\n",
    "    else:\n",
    "        return tensors[0, from_idx, :]\n",
    "\n",
    "def get_many_historical_features(frm, to, tensors, date_lookup, input=False):\n",
    "    if isinstance(frm, str):\n",
    "        from_idx = date_lookup[frm]\n",
    "    else:\n",
    "        from_idx = frm\n",
    "\n",
    "    if isinstance(to, str):\n",
    "        to_idx = date_lookup[to]\n",
    "    else:\n",
    "        to_idx = to\n",
    "\n",
    "    data = []\n",
    "    for idx in range(from_idx, to_idx + 1, 1):\n",
    "        if input:\n",
    "            data.append(tensors[:, idx, :])\n",
    "        else:\n",
    "            data.append(tensors[0, idx, :])\n",
    "\n",
    "    if input:\n",
    "        return torch.stack(data, dim=1)\n",
    "    else:\n",
    "        return torch.stack(data, dim=0)\n",
    "\n",
    "def create_features_datasets(tensors, date_lookup, backward_features, forward_features):\n",
    "    first_idx = backward_features + 1\n",
    "    last_idx = tensors.size()[1] - forward_features - 1\n",
    "    \n",
    "    X = []\n",
    "    Y = []\n",
    "\n",
    "    for idx in range(first_idx, last_idx, 1):\n",
    "        if backward_features > 0 and forward_features > 0:\n",
    "            backward = get_many_historical_features(idx - backward_features, idx - 1, tensors, date_lookup, input=True)\n",
    "            forward = get_many_historical_features(idx + 1, idx + forward_features, tensors, date_lookup, input=True)            \n",
    "            input_features = torch.concat((backward, forward), dim=1)\n",
    "        elif backward_features > 0:\n",
    "            input_features = get_many_historical_features(idx - backward_features, idx - 1, tensors, date_lookup, input=True)\n",
    "        elif forward_features > 0:\n",
    "            input_features = get_many_historical_features(idx + 1, idx + forward_features, tensors, date_lookup, input=True)            \n",
    "\n",
    "        output_features = get_historical_features(idx, tensors, date_lookup, input=False)\n",
    "\n",
    "        X.append(input_features)\n",
    "        Y.append(output_features)\n",
    "    \n",
    "    return torch.stack(X, dim=0), torch.stack(Y, dim=0)"
   ]
  },
  {
   "cell_type": "code",
   "execution_count": 51,
   "id": "642845f8",
   "metadata": {},
   "outputs": [
    {
     "name": "stdout",
     "output_type": "stream",
     "text": [
      "torch.Size([14954, 4, 20, 13])\n",
      "torch.Size([14954, 13])\n",
      "torch.Size([8, 4, 20, 13])\n",
      "torch.Size([8, 13])\n"
     ]
    }
   ],
   "source": [
    "import torch.utils.data as Data\n",
    "\n",
    "X, Y = create_features_datasets(t, dl, 20, 0)\n",
    "\n",
    "print(X.size())\n",
    "print(Y.size())\n",
    "\n",
    "dataset = Data.TensorDataset(X, Y)\n",
    "loader = Data.DataLoader(dataset, batch_size=8, shuffle=True)\n",
    "\n",
    "for X_batch, Y_batch in loader:\n",
    "    print(X_batch.size())\n",
    "    print(Y_batch.size())\n",
    "    break"
   ]
  },
  {
   "cell_type": "code",
   "execution_count": 52,
   "id": "ef7a92ee",
   "metadata": {},
   "outputs": [
    {
     "ename": "RuntimeError",
     "evalue": "mat1 and mat2 shapes cannot be multiplied (8x192 and 224x512)",
     "output_type": "error",
     "traceback": [
      "\u001b[1;31m---------------------------------------------------------------------------\u001b[0m",
      "\u001b[1;31mRuntimeError\u001b[0m                              Traceback (most recent call last)",
      "Cell \u001b[1;32mIn[52], line 3\u001b[0m\n\u001b[0;32m      1\u001b[0m model \u001b[38;5;241m=\u001b[39m create_model(\u001b[38;5;241m13\u001b[39m, \u001b[38;5;241m20\u001b[39m, \u001b[38;5;241m4\u001b[39m, \u001b[38;5;241m3\u001b[39m)\n\u001b[1;32m----> 3\u001b[0m \u001b[43mmodel\u001b[49m\u001b[43m(\u001b[49m\u001b[43mX_batch\u001b[49m\u001b[38;5;241;43m.\u001b[39;49m\u001b[43mfloat\u001b[49m\u001b[43m(\u001b[49m\u001b[43m)\u001b[49m\u001b[43m)\u001b[49m\n",
      "File \u001b[1;32mc:\\Users\\austi\\AppData\\Local\\Programs\\Python\\Python313\\Lib\\site-packages\\torch\\nn\\modules\\module.py:1739\u001b[0m, in \u001b[0;36mModule._wrapped_call_impl\u001b[1;34m(self, *args, **kwargs)\u001b[0m\n\u001b[0;32m   1737\u001b[0m     \u001b[38;5;28;01mreturn\u001b[39;00m \u001b[38;5;28mself\u001b[39m\u001b[38;5;241m.\u001b[39m_compiled_call_impl(\u001b[38;5;241m*\u001b[39margs, \u001b[38;5;241m*\u001b[39m\u001b[38;5;241m*\u001b[39mkwargs)  \u001b[38;5;66;03m# type: ignore[misc]\u001b[39;00m\n\u001b[0;32m   1738\u001b[0m \u001b[38;5;28;01melse\u001b[39;00m:\n\u001b[1;32m-> 1739\u001b[0m     \u001b[38;5;28;01mreturn\u001b[39;00m \u001b[38;5;28;43mself\u001b[39;49m\u001b[38;5;241;43m.\u001b[39;49m\u001b[43m_call_impl\u001b[49m\u001b[43m(\u001b[49m\u001b[38;5;241;43m*\u001b[39;49m\u001b[43margs\u001b[49m\u001b[43m,\u001b[49m\u001b[43m \u001b[49m\u001b[38;5;241;43m*\u001b[39;49m\u001b[38;5;241;43m*\u001b[39;49m\u001b[43mkwargs\u001b[49m\u001b[43m)\u001b[49m\n",
      "File \u001b[1;32mc:\\Users\\austi\\AppData\\Local\\Programs\\Python\\Python313\\Lib\\site-packages\\torch\\nn\\modules\\module.py:1750\u001b[0m, in \u001b[0;36mModule._call_impl\u001b[1;34m(self, *args, **kwargs)\u001b[0m\n\u001b[0;32m   1745\u001b[0m \u001b[38;5;66;03m# If we don't have any hooks, we want to skip the rest of the logic in\u001b[39;00m\n\u001b[0;32m   1746\u001b[0m \u001b[38;5;66;03m# this function, and just call forward.\u001b[39;00m\n\u001b[0;32m   1747\u001b[0m \u001b[38;5;28;01mif\u001b[39;00m \u001b[38;5;129;01mnot\u001b[39;00m (\u001b[38;5;28mself\u001b[39m\u001b[38;5;241m.\u001b[39m_backward_hooks \u001b[38;5;129;01mor\u001b[39;00m \u001b[38;5;28mself\u001b[39m\u001b[38;5;241m.\u001b[39m_backward_pre_hooks \u001b[38;5;129;01mor\u001b[39;00m \u001b[38;5;28mself\u001b[39m\u001b[38;5;241m.\u001b[39m_forward_hooks \u001b[38;5;129;01mor\u001b[39;00m \u001b[38;5;28mself\u001b[39m\u001b[38;5;241m.\u001b[39m_forward_pre_hooks\n\u001b[0;32m   1748\u001b[0m         \u001b[38;5;129;01mor\u001b[39;00m _global_backward_pre_hooks \u001b[38;5;129;01mor\u001b[39;00m _global_backward_hooks\n\u001b[0;32m   1749\u001b[0m         \u001b[38;5;129;01mor\u001b[39;00m _global_forward_hooks \u001b[38;5;129;01mor\u001b[39;00m _global_forward_pre_hooks):\n\u001b[1;32m-> 1750\u001b[0m     \u001b[38;5;28;01mreturn\u001b[39;00m \u001b[43mforward_call\u001b[49m\u001b[43m(\u001b[49m\u001b[38;5;241;43m*\u001b[39;49m\u001b[43margs\u001b[49m\u001b[43m,\u001b[49m\u001b[43m \u001b[49m\u001b[38;5;241;43m*\u001b[39;49m\u001b[38;5;241;43m*\u001b[39;49m\u001b[43mkwargs\u001b[49m\u001b[43m)\u001b[49m\n\u001b[0;32m   1752\u001b[0m result \u001b[38;5;241m=\u001b[39m \u001b[38;5;28;01mNone\u001b[39;00m\n\u001b[0;32m   1753\u001b[0m called_always_called_hooks \u001b[38;5;241m=\u001b[39m \u001b[38;5;28mset\u001b[39m()\n",
      "File \u001b[1;32mc:\\Users\\austi\\AppData\\Local\\Programs\\Python\\Python313\\Lib\\site-packages\\torch\\nn\\modules\\container.py:250\u001b[0m, in \u001b[0;36mSequential.forward\u001b[1;34m(self, input)\u001b[0m\n\u001b[0;32m    248\u001b[0m \u001b[38;5;28;01mdef\u001b[39;00m \u001b[38;5;21mforward\u001b[39m(\u001b[38;5;28mself\u001b[39m, \u001b[38;5;28minput\u001b[39m):\n\u001b[0;32m    249\u001b[0m     \u001b[38;5;28;01mfor\u001b[39;00m module \u001b[38;5;129;01min\u001b[39;00m \u001b[38;5;28mself\u001b[39m:\n\u001b[1;32m--> 250\u001b[0m         \u001b[38;5;28minput\u001b[39m \u001b[38;5;241m=\u001b[39m \u001b[43mmodule\u001b[49m\u001b[43m(\u001b[49m\u001b[38;5;28;43minput\u001b[39;49m\u001b[43m)\u001b[49m\n\u001b[0;32m    251\u001b[0m     \u001b[38;5;28;01mreturn\u001b[39;00m \u001b[38;5;28minput\u001b[39m\n",
      "File \u001b[1;32mc:\\Users\\austi\\AppData\\Local\\Programs\\Python\\Python313\\Lib\\site-packages\\torch\\nn\\modules\\module.py:1739\u001b[0m, in \u001b[0;36mModule._wrapped_call_impl\u001b[1;34m(self, *args, **kwargs)\u001b[0m\n\u001b[0;32m   1737\u001b[0m     \u001b[38;5;28;01mreturn\u001b[39;00m \u001b[38;5;28mself\u001b[39m\u001b[38;5;241m.\u001b[39m_compiled_call_impl(\u001b[38;5;241m*\u001b[39margs, \u001b[38;5;241m*\u001b[39m\u001b[38;5;241m*\u001b[39mkwargs)  \u001b[38;5;66;03m# type: ignore[misc]\u001b[39;00m\n\u001b[0;32m   1738\u001b[0m \u001b[38;5;28;01melse\u001b[39;00m:\n\u001b[1;32m-> 1739\u001b[0m     \u001b[38;5;28;01mreturn\u001b[39;00m \u001b[38;5;28;43mself\u001b[39;49m\u001b[38;5;241;43m.\u001b[39;49m\u001b[43m_call_impl\u001b[49m\u001b[43m(\u001b[49m\u001b[38;5;241;43m*\u001b[39;49m\u001b[43margs\u001b[49m\u001b[43m,\u001b[49m\u001b[43m \u001b[49m\u001b[38;5;241;43m*\u001b[39;49m\u001b[38;5;241;43m*\u001b[39;49m\u001b[43mkwargs\u001b[49m\u001b[43m)\u001b[49m\n",
      "File \u001b[1;32mc:\\Users\\austi\\AppData\\Local\\Programs\\Python\\Python313\\Lib\\site-packages\\torch\\nn\\modules\\module.py:1750\u001b[0m, in \u001b[0;36mModule._call_impl\u001b[1;34m(self, *args, **kwargs)\u001b[0m\n\u001b[0;32m   1745\u001b[0m \u001b[38;5;66;03m# If we don't have any hooks, we want to skip the rest of the logic in\u001b[39;00m\n\u001b[0;32m   1746\u001b[0m \u001b[38;5;66;03m# this function, and just call forward.\u001b[39;00m\n\u001b[0;32m   1747\u001b[0m \u001b[38;5;28;01mif\u001b[39;00m \u001b[38;5;129;01mnot\u001b[39;00m (\u001b[38;5;28mself\u001b[39m\u001b[38;5;241m.\u001b[39m_backward_hooks \u001b[38;5;129;01mor\u001b[39;00m \u001b[38;5;28mself\u001b[39m\u001b[38;5;241m.\u001b[39m_backward_pre_hooks \u001b[38;5;129;01mor\u001b[39;00m \u001b[38;5;28mself\u001b[39m\u001b[38;5;241m.\u001b[39m_forward_hooks \u001b[38;5;129;01mor\u001b[39;00m \u001b[38;5;28mself\u001b[39m\u001b[38;5;241m.\u001b[39m_forward_pre_hooks\n\u001b[0;32m   1748\u001b[0m         \u001b[38;5;129;01mor\u001b[39;00m _global_backward_pre_hooks \u001b[38;5;129;01mor\u001b[39;00m _global_backward_hooks\n\u001b[0;32m   1749\u001b[0m         \u001b[38;5;129;01mor\u001b[39;00m _global_forward_hooks \u001b[38;5;129;01mor\u001b[39;00m _global_forward_pre_hooks):\n\u001b[1;32m-> 1750\u001b[0m     \u001b[38;5;28;01mreturn\u001b[39;00m \u001b[43mforward_call\u001b[49m\u001b[43m(\u001b[49m\u001b[38;5;241;43m*\u001b[39;49m\u001b[43margs\u001b[49m\u001b[43m,\u001b[49m\u001b[43m \u001b[49m\u001b[38;5;241;43m*\u001b[39;49m\u001b[38;5;241;43m*\u001b[39;49m\u001b[43mkwargs\u001b[49m\u001b[43m)\u001b[49m\n\u001b[0;32m   1752\u001b[0m result \u001b[38;5;241m=\u001b[39m \u001b[38;5;28;01mNone\u001b[39;00m\n\u001b[0;32m   1753\u001b[0m called_always_called_hooks \u001b[38;5;241m=\u001b[39m \u001b[38;5;28mset\u001b[39m()\n",
      "File \u001b[1;32mc:\\Users\\austi\\AppData\\Local\\Programs\\Python\\Python313\\Lib\\site-packages\\torch\\nn\\modules\\linear.py:125\u001b[0m, in \u001b[0;36mLinear.forward\u001b[1;34m(self, input)\u001b[0m\n\u001b[0;32m    124\u001b[0m \u001b[38;5;28;01mdef\u001b[39;00m \u001b[38;5;21mforward\u001b[39m(\u001b[38;5;28mself\u001b[39m, \u001b[38;5;28minput\u001b[39m: Tensor) \u001b[38;5;241m-\u001b[39m\u001b[38;5;241m>\u001b[39m Tensor:\n\u001b[1;32m--> 125\u001b[0m     \u001b[38;5;28;01mreturn\u001b[39;00m \u001b[43mF\u001b[49m\u001b[38;5;241;43m.\u001b[39;49m\u001b[43mlinear\u001b[49m\u001b[43m(\u001b[49m\u001b[38;5;28;43minput\u001b[39;49m\u001b[43m,\u001b[49m\u001b[43m \u001b[49m\u001b[38;5;28;43mself\u001b[39;49m\u001b[38;5;241;43m.\u001b[39;49m\u001b[43mweight\u001b[49m\u001b[43m,\u001b[49m\u001b[43m \u001b[49m\u001b[38;5;28;43mself\u001b[39;49m\u001b[38;5;241;43m.\u001b[39;49m\u001b[43mbias\u001b[49m\u001b[43m)\u001b[49m\n",
      "\u001b[1;31mRuntimeError\u001b[0m: mat1 and mat2 shapes cannot be multiplied (8x192 and 224x512)"
     ]
    }
   ],
   "source": [
    "model = create_model(13, 20, 4, 3)\n",
    "\n",
    "model(X_batch.float())"
   ]
  }
 ],
 "metadata": {
  "kernelspec": {
   "display_name": "Python 3",
   "language": "python",
   "name": "python3"
  },
  "language_info": {
   "codemirror_mode": {
    "name": "ipython",
    "version": 3
   },
   "file_extension": ".py",
   "mimetype": "text/x-python",
   "name": "python",
   "nbconvert_exporter": "python",
   "pygments_lexer": "ipython3",
   "version": "3.13.1"
  }
 },
 "nbformat": 4,
 "nbformat_minor": 5
}
