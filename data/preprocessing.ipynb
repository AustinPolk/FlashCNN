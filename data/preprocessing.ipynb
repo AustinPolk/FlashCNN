{
 "cells": [
  {
   "cell_type": "code",
   "execution_count": null,
   "id": "629f10e0-3153-4756-8100-71599466c415",
   "metadata": {},
   "outputs": [],
   "source": [
    "import pandas as pd\n",
    "\n",
    "data = r\"3993249.csv\"\n",
    "\n",
    "df = pd.read_csv(data)\n",
    "df = df[df['STATION'] == 'USW00014935']\n",
    "df.set_index('DATE', inplace=True)\n",
    "\n",
    "df = df.loc['1964-04-01':]"
   ]
  },
  {
   "cell_type": "code",
   "execution_count": null,
   "id": "7ef39f68-280e-4e13-9f3f-5ccfcc511167",
   "metadata": {},
   "outputs": [],
   "source": [
    "null_cols = df.isnull().sum()\n",
    "\n",
    "#print(null_cols)\n",
    "\n",
    "empty = null_cols[null_cols > 15000]\n",
    "\n",
    "bad_columns = [c for c in list(empty.index) if 'WT' not in c]\n",
    "\n",
    "#print(bad_columns)\n",
    "\n",
    "condensed = df.drop(bad_columns, axis=1)\n",
    "\n",
    "#print(condensed)"
   ]
  },
  {
   "cell_type": "code",
   "execution_count": null,
   "id": "24339536-99a8-46f2-bcde-d24ef5f44629",
   "metadata": {},
   "outputs": [],
   "source": [
    "condensed['TAVG'] = (condensed['TMAX'] + condensed['TMIN']) / 2"
   ]
  },
  {
   "cell_type": "code",
   "execution_count": null,
   "id": "23904ca4-4cd8-41da-a87e-0fa5bf72ac67",
   "metadata": {},
   "outputs": [],
   "source": [
    "weather_type_columns = [c for c in condensed.columns if 'WT' in c]\n",
    "condensed[weather_type_columns] = condensed[weather_type_columns].fillna(0)\n",
    "condensed"
   ]
  },
  {
   "cell_type": "code",
   "execution_count": null,
   "id": "81740606-8207-4a3b-b18f-46548dc671ae",
   "metadata": {},
   "outputs": [],
   "source": [
    "condensed.to_csv('test.csv')"
   ]
  },
  {
   "cell_type": "code",
   "execution_count": null,
   "id": "d765c5b1-b66e-475d-bdf4-98f9f2b9dd8d",
   "metadata": {},
   "outputs": [],
   "source": [
    "import numpy as np\n",
    "\n",
    "new_df = condensed.loc['1984-01-01':'2024-12-31']\n",
    "\n",
    "columns_to_drop = ['ACMH', 'ACSH', 'FMTM', 'PGTM', 'WDF5', 'WSF5', 'SNOW', 'SNWD']\n",
    "columns_to_keep = [c for c in new_df.columns if c not in columns_to_drop]\n",
    "\n",
    "new_df = new_df[columns_to_keep]\n",
    "new_df[['WDF1', 'WDF2', 'WSF1', 'WSF2']] = new_df[['WDF1', 'WDF2', 'WSF1', 'WSF2']].fillna(0)\n",
    "\n",
    "# combine the two remaining wind measurements into one \n",
    "new_df['WDF12'] = np.pi * (new_df['WDF1'] + new_df['WDF2']) / 180.0\n",
    "new_df['WSF12'] = new_df['WSF1'] + new_df['WSF2']\n",
    "\n",
    "# also include the U and V components of the wind\n",
    "new_df['UWSF12'] = new_df['WSF12'] * np.cos(new_df['WDF12'])\n",
    "new_df['VWSF12'] = new_df['WSF12'] * np.sin(new_df['WDF12'])\n",
    "\n",
    "# use hundredths of an inch for precipitation measurement\n",
    "new_df['PRCP'] = new_df['PRCP'] * 100.0\n",
    "\n",
    "new_df.insert(0, 'DAY', pd.to_datetime(new_df.index).day_of_year)\n",
    "new_df['DAY'] = new_df['DAY'].apply(lambda x: x if x < 366 else 1)\n",
    "\n",
    "new_df['DAY365'] = pd.to_datetime(new_df.index).day_of_year / 365.25\n",
    "new_df['SIN'] = np.sin(2 * np.pi * new_df['DAY365'])\n",
    "new_df['COS'] = np.cos(2 * np.pi * new_df['DAY365'])\n",
    "\n",
    "new_df['TSPREAD'] = new_df['TMAX'] - new_df['TMIN']\n",
    "new_df['WSPREAD'] = new_df['WSF12'] - new_df['AWND']\n",
    "\n",
    "new_df = new_df.drop(['WDF1', 'WDF2', 'WSF1', 'WSF2'], axis=1)\n",
    "new_df = new_df.ffill()\n",
    "\n",
    "data_columns = ['DAY', 'AWND', 'PRCP', 'TMAX', 'TMIN', 'UWSF12', 'VWSF12']\n",
    "derived_columns = [x for x in new_df.columns if x not in data_columns]\n",
    "\n",
    "new_df = new_df[data_columns + derived_columns]\n",
    "\n",
    "new_df = new_df.drop(['STATION', 'NAME'], axis=1)\n",
    "new_df.to_csv('grand_island.csv')\n",
    "new_df.drop(weather_type_columns, axis=1).to_csv('grand_island_nwt.csv')"
   ]
  },
  {
   "cell_type": "code",
   "execution_count": null,
   "id": "bb55d353-fd2f-4dfc-a49c-f6a1e60ee3f2",
   "metadata": {},
   "outputs": [],
   "source": [
    "up_to_2000 = new_df.loc[:'2000-01-01']\n",
    "up_to_2000"
   ]
  },
  {
   "cell_type": "code",
   "execution_count": null,
   "id": "ab2a8d54",
   "metadata": {},
   "outputs": [],
   "source": [
    "\n",
    "ddd = up_to_2000.drop(weather_type_columns, axis=1).groupby(['DAY']).agg(['mean', 'std'])#.to_csv('grand_island_normals.csv')\n",
    "ddd.columns = ['_'.join(col).strip() for col in ddd.columns.values]\n",
    "\n",
    "#ddd.to_csv('grand_island_normals.csv')\n",
    "total_means = new_df.drop(weather_type_columns, axis=1).agg(['mean', 'std'])\n",
    "\n",
    "c = {}\n",
    "for column in total_means.columns:\n",
    "    if column == 'DAY':\n",
    "        continue\n",
    "\n",
    "    mean = total_means[column].loc['mean']\n",
    "    std = total_means[column].loc['std']\n",
    "    c[f'{column}_mean'] = mean\n",
    "    c[f'{column}_std'] = std\n",
    "    \n",
    "print(c)\n",
    "\n",
    "total_means = pd.DataFrame([c])\n",
    "total_means.index = [9999]\n",
    "\n",
    "pd.concat((ddd, total_means)).to_csv('grand_island_normals.csv')"
   ]
  },
  {
   "cell_type": "code",
   "execution_count": null,
   "id": "d6bf3816",
   "metadata": {},
   "outputs": [],
   "source": []
  }
 ],
 "metadata": {
  "kernelspec": {
   "display_name": "Python 3 (ipykernel)",
   "language": "python",
   "name": "python3"
  },
  "language_info": {
   "codemirror_mode": {
    "name": "ipython",
    "version": 3
   },
   "file_extension": ".py",
   "mimetype": "text/x-python",
   "name": "python",
   "nbconvert_exporter": "python",
   "pygments_lexer": "ipython3",
   "version": "3.12.7"
  }
 },
 "nbformat": 4,
 "nbformat_minor": 5
}
