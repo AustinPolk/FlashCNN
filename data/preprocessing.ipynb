{
 "cells": [
  {
   "cell_type": "code",
   "execution_count": null,
   "id": "629f10e0-3153-4756-8100-71599466c415",
   "metadata": {},
   "outputs": [],
   "source": [
    "import pandas as pd\n",
    "\n",
    "data = r\"3993249.csv\"\n",
    "\n",
    "df = pd.read_csv(data)\n",
    "df = df[df['STATION'] == 'USW00014935']\n",
    "df.set_index('DATE', inplace=True)\n",
    "\n",
    "df = df.loc['1964-04-01':]"
   ]
  },
  {
   "cell_type": "code",
   "execution_count": null,
   "id": "7ef39f68-280e-4e13-9f3f-5ccfcc511167",
   "metadata": {},
   "outputs": [],
   "source": [
    "null_cols = df.isnull().sum()\n",
    "\n",
    "#print(null_cols)\n",
    "\n",
    "empty = null_cols[null_cols > 15000]\n",
    "\n",
    "bad_columns = [c for c in list(empty.index) if 'WT' not in c]\n",
    "\n",
    "#print(bad_columns)\n",
    "\n",
    "condensed = df.drop(bad_columns, axis=1)\n",
    "\n",
    "#print(condensed)"
   ]
  },
  {
   "cell_type": "code",
   "execution_count": null,
   "id": "24339536-99a8-46f2-bcde-d24ef5f44629",
   "metadata": {},
   "outputs": [],
   "source": [
    "condensed['TAVG'] = (condensed['TMAX'] + condensed['TMIN']) / 2"
   ]
  },
  {
   "cell_type": "code",
   "execution_count": null,
   "id": "23904ca4-4cd8-41da-a87e-0fa5bf72ac67",
   "metadata": {},
   "outputs": [],
   "source": [
    "weather_type_columns = [c for c in condensed.columns if 'WT' in c]\n",
    "condensed[weather_type_columns] = condensed[weather_type_columns].fillna(0)\n",
    "condensed"
   ]
  },
  {
   "cell_type": "code",
   "execution_count": null,
   "id": "81740606-8207-4a3b-b18f-46548dc671ae",
   "metadata": {},
   "outputs": [],
   "source": [
    "condensed.to_csv('test.csv')"
   ]
  },
  {
   "cell_type": "code",
   "execution_count": null,
   "id": "d765c5b1-b66e-475d-bdf4-98f9f2b9dd8d",
   "metadata": {},
   "outputs": [],
   "source": [
    "import numpy as np\n",
    "\n",
    "new_df = condensed.loc['1984-01-01':'2024-12-31']\n",
    "\n",
    "columns_to_drop = ['ACMH', 'ACSH', 'FMTM', 'PGTM', 'WDF5', 'WSF5', 'SNOW', 'SNWD']\n",
    "columns_to_keep = [c for c in new_df.columns if c not in columns_to_drop]\n",
    "\n",
    "new_df = new_df[columns_to_keep]\n",
    "new_df[['WDF1', 'WDF2', 'WSF1', 'WSF2']] = new_df[['WDF1', 'WDF2', 'WSF1', 'WSF2']].fillna(0)\n",
    "\n",
    "# combine the two remaining wind measurements into one \n",
    "new_df['WDF12'] = 2 * np.pi * (new_df['WDF1'] + new_df['WDF2']) / 180.0\n",
    "new_df['WSF12'] = new_df['WSF1'] + new_df['WSF2']\n",
    "\n",
    "# use hundredths of an inch for precipitation measurement\n",
    "new_df['PRCP'] = new_df['PRCP'] * 100.0\n",
    "\n",
    "new_df = new_df.drop(['WDF1', 'WDF2', 'WSF1', 'WSF2'], axis=1)\n",
    "new_df = new_df.ffill()\n",
    "\n",
    "new_df = new_df.drop(['STATION', 'NAME'], axis=1)\n",
    "new_df.to_csv('grand_island.csv')\n",
    "new_df.drop(weather_type_columns, axis=1).to_csv('grand_island_nwt.csv')"
   ]
  },
  {
   "cell_type": "code",
   "execution_count": null,
   "id": "de464378-8cf6-4294-907b-13fde2a4d7ab",
   "metadata": {},
   "outputs": [],
   "source": [
    "new_df['DAY'] = pd.to_datetime(new_df.index).day_of_year"
   ]
  },
  {
   "cell_type": "code",
   "execution_count": null,
   "id": "bb55d353-fd2f-4dfc-a49c-f6a1e60ee3f2",
   "metadata": {},
   "outputs": [],
   "source": [
    "new_df.groupby(['DAY']).agg(['mean', 'std']).to_csv('grand_island_normals.csv')"
   ]
  }
 ],
 "metadata": {
  "kernelspec": {
   "display_name": "Python 3 (ipykernel)",
   "language": "python",
   "name": "python3"
  },
  "language_info": {
   "codemirror_mode": {
    "name": "ipython",
    "version": 3
   },
   "file_extension": ".py",
   "mimetype": "text/x-python",
   "name": "python",
   "nbconvert_exporter": "python",
   "pygments_lexer": "ipython3",
   "version": "3.12.7"
  }
 },
 "nbformat": 4,
 "nbformat_minor": 5
}
