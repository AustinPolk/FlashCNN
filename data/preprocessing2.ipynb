{
 "cells": [
  {
   "cell_type": "code",
   "execution_count": 57,
   "id": "1487b2da-55c6-4d4b-9a25-0942d58e3ffa",
   "metadata": {},
   "outputs": [],
   "source": [
    "import pandas as pd\n",
    "import numpy as np\n",
    "\n",
    "data = r\"3993249.csv\"\n",
    "\n",
    "df = pd.read_csv(data)\n",
    "df.set_index('DATE', inplace=True)\n",
    "\n",
    "df = df[df['STATION'] != 'USR0000NBES'] # get rid of Bessey Station, it doesn't have much data\n",
    "stations = df['STATION'].unique()\n",
    "\n",
    "df = df[['STATION', 'PRCP', 'TMAX', 'TMIN']]\n",
    "\n",
    "df = df.pivot(columns='STATION', values=['PRCP', 'TMAX', 'TMIN'])\n",
    "df = df.loc['1962-07-01':'2024-12-31']\n",
    "df = df.ffill()\n",
    "\n",
    "df['PRCP'] *= 100.0\n",
    "\n",
    "df.columns = ['_'.join(col) for col in df.columns]\n",
    "\n",
    "df.insert(0, 'DAY', pd.to_datetime(df.index).day_of_year)\n",
    "df['DAY'] = df['DAY'].apply(lambda x: x if x < 366 else 1)\n",
    "df['DAY365'] = df['DAY'] / 365.25\n",
    "df['SIN'] = np.sin(2 * np.pi * df['DAY365'])\n",
    "df['COS'] = np.cos(2 * np.pi * df['DAY365'])\n",
    "\n",
    "df.to_csv('multidata.csv')\n",
    "\n",
    "# for station in stations:\n",
    "#     station_prcp = f'PRCP_{station}'\n",
    "#     station_tmax = f'TMAX_{station}'\n",
    "#     station_tmin = f'TMIN_{station}'\n",
    "    \n",
    "#     station_tspread = f'TSPREAD_{station}'\n",
    "#     station_pspread = f'PSPREAD_{station}'\n",
    "#     df[station_tspread] = df[station_tmax] - df[station_tmin]\n",
    "#     df[station_pspread] = df[station_tspread] * df[station_prcp] / 100.0\n",
    "\n",
    "#     station_prcp_sin"
   ]
  },
  {
   "cell_type": "code",
   "execution_count": 58,
   "id": "f01cac6d-46a2-4376-94ec-081784688da1",
   "metadata": {},
   "outputs": [],
   "source": [
    "limited = df.loc[:'2000-01-01']\n",
    "\n",
    "normals = limited.groupby('DAY').agg(['mean', 'std'])\n",
    "normals.columns = ['_'.join(col) for col in normals.columns]\n",
    "normals.to_csv('multinormals.csv')"
   ]
  },
  {
   "cell_type": "code",
   "execution_count": null,
   "id": "e3b174e0-50d0-47bd-a6ff-092e91fe6dd7",
   "metadata": {},
   "outputs": [],
   "source": []
  }
 ],
 "metadata": {
  "kernelspec": {
   "display_name": "Python 3 (ipykernel)",
   "language": "python",
   "name": "python3"
  },
  "language_info": {
   "codemirror_mode": {
    "name": "ipython",
    "version": 3
   },
   "file_extension": ".py",
   "mimetype": "text/x-python",
   "name": "python",
   "nbconvert_exporter": "python",
   "pygments_lexer": "ipython3",
   "version": "3.12.7"
  }
 },
 "nbformat": 4,
 "nbformat_minor": 5
}
