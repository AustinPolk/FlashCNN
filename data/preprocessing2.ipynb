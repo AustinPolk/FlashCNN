{
 "cells": [
  {
   "cell_type": "code",
   "execution_count": 95,
   "id": "68b99f74-3751-47c7-ab95-bffa14ead2b7",
   "metadata": {},
   "outputs": [
    {
     "name": "stdout",
     "output_type": "stream",
     "text": [
      "['USW00014935' 'USC00254335' 'USC00255810' 'USC00251825']\n"
     ]
    }
   ],
   "source": [
    "import pandas as pd\n",
    "import numpy as np\n",
    "\n",
    "data = r\"3993249.csv\"\n",
    "\n",
    "df = pd.read_csv(data)\n",
    "df.set_index('DATE', inplace=True)\n",
    "\n",
    "stations = df['STATION'].unique()\n",
    "for station in stations:\n",
    "    if df[df['STATION'] == station]['PRCP'].sum() == 0:\n",
    "        df = df[df['STATION'] != station]\n",
    "stations = df['STATION'].unique()\n",
    "\n",
    "print(stations)\n",
    "\n",
    "# df = df[df['STATION'] != 'USR0000NBES'] # get rid of Bessey Station, it doesn't have much data\n",
    "# stations = df['STATION'].unique()\n",
    "\n",
    "df = df[['STATION', 'PRCP', 'TMAX', 'TMIN', 'AWND', 'WDF1', 'WDF2', 'WSF1', 'WSF2']]\n",
    "\n",
    "df['PRCP'] *= 100.0\n",
    "\n",
    "df = df.pivot(columns='STATION', values=['PRCP', 'TMAX', 'TMIN', 'AWND', 'WDF1', 'WDF2', 'WSF1', 'WSF2'])\n",
    "df = df.loc['1984-01-01':'2024-12-31']\n",
    "df.columns = ['_'.join(col) for col in df.columns]\n",
    "\n",
    "#print(df)\n",
    "\n",
    "df = df.ffill().fillna(0)\n",
    "\n",
    "#df[['WDF1', 'WDF2', 'WSF1', 'WSF2', 'AWND']] = df[['WDF1', 'WDF2', 'WSF1', 'WSF2']].ffill().fillna(0)\n",
    "for station in stations:\n",
    "    df[f'WSF12_{station}'] = df[f'WSF1_{station}'] + df[f'WSF2_{station}']\n",
    "    df[f'WDF12_{station}'] = np.pi * (df[f'WDF1_{station}'] + df[f'WDF2_{station}']) / 2\n",
    "    df[f'UWSF12_{station}'] = df[f'WSF12_{station}'] * np.cos(df[f'WDF12_{station}'])\n",
    "    df[f'VWSF12_{station}'] = df[f'WSF12_{station}'] * np.sin(df[f'WDF12_{station}'])\n",
    "    df[f'UWDF12_{station}'] = np.cos(df[f'WDF12_{station}']).pow(2)\n",
    "    df[f'VWDF12_{station}'] = np.sin(df[f'WDF12_{station}']).pow(2)\n",
    "    df = df.drop([f'WDF1_{station}', f'WDF2_{station}', f'WSF1_{station}', f'WSF2_{station}'], axis=1)\n",
    "\n",
    "    df[f'TAVG_{station}'] = (df[f'TMAX_{station}'] + df[f'TMIN_{station}'])/2\n",
    "    df[f'TSPREAD_{station}'] = (df[f'TMAX_{station}'] - df[f'TMIN_{station}'])\n",
    "    df[f'WSPREAD_{station}'] = df[f'WSF12_{station}'] - df[f'AWND_{station}']\n",
    "\n",
    "new_column_order = []\n",
    "for station in stations:\n",
    "    new_column_order += [f'PRCP_{station}', f'TMAX_{station}', f'TMIN_{station}', f'AWND_{station}', f'UWSF12_{station}', f'VWSF12_{station}']\n",
    "for station in stations:\n",
    "    new_column_order += [f'WSF12_{station}', f'WDF12_{station}', f'UWDF12_{station}', f'VWDF12_{station}', f'TAVG_{station}', f'TSPREAD_{station}', f'WSPREAD_{station}']\n",
    "df = df[new_column_order]\n",
    "\n",
    "df.insert(0, 'DAY', pd.to_datetime(df.index).day_of_year)\n",
    "df['DAY'] = df['DAY'].apply(lambda x: x if x < 366 else 1)\n",
    "df['DAY365'] = df['DAY'] / 365.25\n",
    "df['SIN'] = np.sin(2 * np.pi * df['DAY365'])\n",
    "df['COS'] = np.cos(2 * np.pi * df['DAY365'])\n",
    "\n",
    "df.to_csv('multidata2.csv')\n",
    "\n",
    "limited = df.loc[:'2000-01-01']\n",
    "\n",
    "normals = limited.groupby('DAY').agg(['mean', 'std'])\n",
    "normals.columns = ['_'.join(col) for col in normals.columns]\n",
    "normals.to_csv('multinormals2.csv')"
   ]
  },
  {
   "cell_type": "code",
   "execution_count": null,
   "id": "e3b174e0-50d0-47bd-a6ff-092e91fe6dd7",
   "metadata": {},
   "outputs": [],
   "source": []
  }
 ],
 "metadata": {
  "kernelspec": {
   "display_name": "Python 3 (ipykernel)",
   "language": "python",
   "name": "python3"
  },
  "language_info": {
   "codemirror_mode": {
    "name": "ipython",
    "version": 3
   },
   "file_extension": ".py",
   "mimetype": "text/x-python",
   "name": "python",
   "nbconvert_exporter": "python",
   "pygments_lexer": "ipython3",
   "version": "3.12.7"
  }
 },
 "nbformat": 4,
 "nbformat_minor": 5
}
