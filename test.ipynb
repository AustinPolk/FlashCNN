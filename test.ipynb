{
 "cells": [
  {
   "cell_type": "code",
   "execution_count": 2,
   "id": "4cc2bb4c",
   "metadata": {},
   "outputs": [],
   "source": [
    "datasets = {\n",
    "    'All': 'data-USC00251825-USC00254335-USC00255810-USW00014935.bin',\n",
    "    'Highway 30': 'data-USC00254335-USC00255810-USW00014935.bin',\n",
    "    'Triangle': 'data-USC00251825-USC00254335-USC00255810.bin',\n",
    "    'Columbus': 'data-USC00251825.bin',\n",
    "    'Kearney': 'data-USC00254335.bin',\n",
    "    'Nebraska City': 'data-USC00255810.bin',\n",
    "    'Grand Island': 'data-USW00014935.bin'\n",
    "}"
   ]
  },
  {
   "cell_type": "code",
   "execution_count": null,
   "id": "d05843f3",
   "metadata": {},
   "outputs": [
    {
     "name": "stdout",
     "output_type": "stream",
     "text": [
      "Epoch 0: train MSE 3.0168, test MSE 3.1042\n",
      "Epoch 5: train MSE 0.5588, test MSE 0.5737\n",
      "Epoch 10: train MSE 0.1400, test MSE 0.1514\n",
      "Epoch 15: train MSE 0.0920, test MSE 0.1155\n",
      "Epoch 20: train MSE 2.3897, test MSE 2.3890\n",
      "Epoch 25: train MSE 0.1150, test MSE 0.1201\n"
     ]
    },
    {
     "ename": "TypeError",
     "evalue": "not all arguments converted during string formatting",
     "output_type": "error",
     "traceback": [
      "\u001b[1;31m---------------------------------------------------------------------------\u001b[0m",
      "\u001b[1;31mTypeError\u001b[0m                                 Traceback (most recent call last)",
      "Cell \u001b[1;32mIn[13], line 47\u001b[0m\n\u001b[0;32m     45\u001b[0m     X_pred \u001b[38;5;241m=\u001b[39m model(X_test)\n\u001b[0;32m     46\u001b[0m     test_mse \u001b[38;5;241m=\u001b[39m loss_fn(X_pred, X_test)\n\u001b[1;32m---> 47\u001b[0m \u001b[38;5;28mprint\u001b[39m(\u001b[38;5;124;43m\"\u001b[39;49m\u001b[38;5;124;43mFinal: train MSE \u001b[39;49m\u001b[38;5;132;43;01m%.4f\u001b[39;49;00m\u001b[38;5;124;43m, test MSE \u001b[39;49m\u001b[38;5;132;43;01m%.4f\u001b[39;49;00m\u001b[38;5;124;43m\"\u001b[39;49m\u001b[43m \u001b[49m\u001b[38;5;241;43m%\u001b[39;49m\u001b[43m \u001b[49m\u001b[43m(\u001b[49m\u001b[43mepoch\u001b[49m\u001b[43m,\u001b[49m\u001b[43m \u001b[49m\u001b[43mtrain_mse\u001b[49m\u001b[43m,\u001b[49m\u001b[43m \u001b[49m\u001b[43mtest_mse\u001b[49m\u001b[43m)\u001b[49m)\n",
      "\u001b[1;31mTypeError\u001b[0m: not all arguments converted during string formatting"
     ]
    }
   ],
   "source": [
    "import torch\n",
    "from torch import nn, optim\n",
    "import torch.utils.data as Data\n",
    "import os\n",
    "from forecast.dataset import *\n",
    "from forecast.auto import AutoDecoder\n",
    "\n",
    "tensors = torch.load(os.path.join('data', datasets['Columbus'])).float() * 100.0\n",
    "\n",
    "train_pct = 0.7\n",
    "train_len = int(tensors.size()[0] * train_pct)\n",
    "X_train = tensors[:train_len]\n",
    "X_test = tensors[train_len:]\n",
    "\n",
    "model = AutoDecoder(tensors.size()[1], 30)\n",
    "loss_fn = nn.MSELoss()\n",
    "optimizer = optim.Adam(model.parameters(), lr=1e-3)\n",
    "\n",
    "loader = Data.DataLoader(Data.TensorDataset(X_train, X_train), shuffle=True, batch_size=16)\n",
    "\n",
    "n_epochs = 30\n",
    "for epoch in range(n_epochs):\n",
    "    model.train()\n",
    "    for X_batch, y_batch in loader:\n",
    "        y_pred = model(X_batch)\n",
    "        loss = loss_fn(y_pred, y_batch)\n",
    "        optimizer.zero_grad()\n",
    "        loss.backward()\n",
    "        optimizer.step()\n",
    "    # Validation\n",
    "    if epoch % 5 != 0:\n",
    "        continue\n",
    "    model.eval()\n",
    "    with torch.no_grad():\n",
    "        X_pred = model(X_train)\n",
    "        train_mse = loss_fn(X_pred, X_train)\n",
    "        X_pred = model(X_test)\n",
    "        test_mse = loss_fn(X_pred, X_test)\n",
    "    print(\"Epoch %d: train MSE %.4f, test MSE %.4f\" % (epoch, train_mse, test_mse))\n",
    "\n",
    "model.eval()\n",
    "with torch.no_grad():\n",
    "    X_pred = model(X_train)\n",
    "    train_mse = loss_fn(X_pred, X_train)\n",
    "    X_pred = model(X_test)\n",
    "    test_mse = loss_fn(X_pred, X_test)\n",
    "print(\"Final: train MSE %.4f, test MSE %.4f\" % (epoch, train_mse, test_mse))"
   ]
  }
 ],
 "metadata": {
  "kernelspec": {
   "display_name": "Python 3",
   "language": "python",
   "name": "python3"
  },
  "language_info": {
   "codemirror_mode": {
    "name": "ipython",
    "version": 3
   },
   "file_extension": ".py",
   "mimetype": "text/x-python",
   "name": "python",
   "nbconvert_exporter": "python",
   "pygments_lexer": "ipython3",
   "version": "3.13.1"
  }
 },
 "nbformat": 4,
 "nbformat_minor": 5
}
